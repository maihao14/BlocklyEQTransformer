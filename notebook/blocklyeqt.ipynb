{
 "cells": [
  {
   "cell_type": "code",
   "execution_count": 1,
   "id": "7bc960a1-f0b6-4ed0-9190-bffb00a6a7dd",
   "metadata": {},
   "outputs": [],
   "source": [
    "# -*- coding: utf-8 -*-\n",
    "# MIT License\n",
    "#\n",
    "# Copyright (c) 2022 Hao Mai & Pascal Audet\n",
    "#\n",
    "# Permission is hereby granted, free of charge, to any person obtaining a copy\n",
    "# of this software and associated documentation files (the \"Software\"), to deal\n",
    "# in the Software without restriction, including without limitation the rights\n",
    "# to use, copy, modify, merge, publish, distribute, sublicense, and/or sell\n",
    "# copies of the Software, and to permit persons to whom the Software is\n",
    "# furnished to do so, subject to the following conditions:\n",
    "#\n",
    "# The above copyright notice and this permission notice shall be included in all\n",
    "# copies or substantial portions of the Software.\n",
    "#\n",
    "# THE SOFTWARE IS PROVIDED \"AS IS\", WITHOUT WARRANTY OF ANY KIND, EXPRESS OR\n",
    "# IMPLIED, INCLUDING BUT NOT LIMITED TO THE WARRANTIES OF MERCHANTABILITY,\n",
    "# FITNESS FOR A PARTICULAR PURPOSE AND NONINFRINGEMENT. IN NO EVENT SHALL THE\n",
    "# AUTHORS OR COPYRIGHT HOLDERS BE LIABLE FOR ANY CLAIM, DAMAGES OR OTHER\n",
    "# LIABILITY, WHETHER IN AN ACTION OF CONTRACT, TORT OR OTHERWISE, ARISING FROM,\n",
    "# OUT OF OR IN CONNECTION WITH THE SOFTWARE OR THE USE OR OTHER DEALINGS IN THE\n",
    "# SOFTWARE.\n",
    "# \n",
    "# Core fuctions of Blockly Earthquake Transformer\n",
    "# Created on Sun Feb 22 20:22:25 2022\n",
    "# @author: Hao Mai & Pascal Audet\n"
   ]
  },
  {
   "cell_type": "code",
   "execution_count": 2,
   "id": "c8175b9b",
   "metadata": {
    "extensions": {
     "jupyter_dashboards": {
      "version": 1,
      "views": {
       "default_view": {
        "hidden": true
       },
       "grid_default": {
        "col": null,
        "height": 2,
        "hidden": true,
        "locked": true,
        "row": null,
        "width": 2
       }
      }
     }
    }
   },
   "outputs": [
    {
     "name": "stderr",
     "output_type": "stream",
     "text": [
      "Using TensorFlow backend.\n"
     ]
    }
   ],
   "source": [
    "# dependency packages\n",
    "%matplotlib inline\n",
    "import warnings\n",
    "warnings.filterwarnings('ignore')\n",
    "import ipywidgets as widgets\n",
    "from IPython.display import display, clear_output\n",
    "from IPython.display import Image\n",
    "from matplotlib import pyplot as plt\n",
    "\n",
    "# import os\n",
    "# os.environ['TF_KERAS'] = '1'\n",
    "from BlocklyEQTransformer.core.trainer import trainer\n",
    "from BlocklyEQTransformer.core.predictor import predictor\n",
    "from BlocklyEQTransformer.core.tester import tester\n",
    "# str to tuple\n",
    "import ast "
   ]
  },
  {
   "cell_type": "code",
   "execution_count": 3,
   "id": "aab8d34e",
   "metadata": {
    "extensions": {
     "jupyter_dashboards": {
      "version": 1,
      "views": {
       "default_view": {
        "hidden": true
       },
       "grid_default": {
        "col": null,
        "height": 2,
        "hidden": true,
        "locked": true,
        "row": null,
        "width": 2
       }
      }
     }
    }
   },
   "outputs": [],
   "source": [
    "#!jupyter nbextension enable --py widgetsnbextension --sys-prefix\n",
    "#!jupyter serverextension enable voila --sys-prefix"
   ]
  },
  {
   "cell_type": "code",
   "execution_count": 4,
   "id": "526a01b7-82e8-454c-bde2-9ed9c645ab77",
   "metadata": {},
   "outputs": [],
   "source": [
    "# function: String to tuple\n",
    "def parse_tuple(string):\n",
    "    r\"\"\" String to tuple\n",
    "    Parameters\n",
    "    ----------\n",
    "    string : str\n",
    "        `string` receive user input string parameters.\n",
    "    Returns\n",
    "    ----------        \n",
    "    s : tuple\n",
    "        `s` return tuple format input parameters. \n",
    "    \"\"\"\n",
    "    try:\n",
    "        s = ast.literal_eval(str(string))\n",
    "        if type(s) == tuple:\n",
    "            return s\n",
    "        return\n",
    "    except:\n",
    "        return"
   ]
  },
  {
   "cell_type": "code",
   "execution_count": 5,
   "id": "442ddd29",
   "metadata": {
    "extensions": {
     "jupyter_dashboards": {
      "activeView": "grid_default",
      "views": {
       "grid_default": {
        "col": null,
        "height": 2,
        "hidden": true,
        "locked": true,
        "row": null,
        "width": 2
       }
      }
     }
    }
   },
   "outputs": [],
   "source": [
    "# input widgets functions\n",
    "# float_slider, int_slider, text, hbox_widget \n",
    "def input_float_silder(title, default, maxfloat):\n",
    "    label = widgets.Label(value=title , layout={'width': '150px'} )\n",
    "    text = widgets.FloatSlider(\n",
    "                                value=default,\n",
    "                                min=0,\n",
    "                                max=maxfloat,\n",
    "                                step=0.1,\n",
    "                                disabled=False,\n",
    "                                continuous_update=False,\n",
    "                                orientation='horizontal',\n",
    "                                readout=True,\n",
    "                                readout_format='.1f',\n",
    "                            )\n",
    "    new_widget = widgets.HBox([label,text]) \n",
    "    return new_widget\n",
    "# input int slider widget\n",
    "def input_int_silder(title, default, maxint):\n",
    "    label = widgets.Label(value=title , layout={'width': '150px'} )\n",
    "    text = widgets.IntSlider(\n",
    "                                value=default,\n",
    "                                min=0,\n",
    "                                max=maxint,\n",
    "                                step=1,\n",
    "                                disabled=False,\n",
    "                                continuous_update=False,\n",
    "                                orientation='horizontal',\n",
    "                                readout=True,\n",
    "                                readout_format='d',\n",
    "                            )\n",
    "    new_widget = widgets.HBox([label,text]) \n",
    "    return new_widget\n",
    "# input text widget\n",
    "def input_option(title, default):\n",
    "    label = widgets.Label(value=title , layout={'width': '100px'} )\n",
    "    text = widgets.Text(\n",
    "                    value=default,\n",
    "                    layout=widgets.Layout(width = '800px', description_width = '40px'),\n",
    "                    disabled=False\n",
    "                    )\n",
    "    new_widget = widgets.HBox([label,text]) \n",
    "    return new_widget\n",
    "\n",
    "# HBox label + widget\n",
    "def input_hbox(title, wid):\n",
    "    label = widgets.Label(value=title , layout={'width': '100px'} )\n",
    "    return widgets.HBox([label,wid]) "
   ]
  },
  {
   "cell_type": "code",
   "execution_count": 6,
   "id": "c26f2e26",
   "metadata": {
    "extensions": {
     "jupyter_dashboards": {
      "version": 1,
      "views": {
       "default_view": {
        "hidden": true
       },
       "grid_default": {
        "col": null,
        "height": 2,
        "hidden": true,
        "locked": true,
        "row": null,
        "width": 2
       }
      }
     }
    }
   },
   "outputs": [],
   "source": [
    "# 0 Logo Widget\n",
    "# load image\n",
    "file = open(\"beqt.png\", \"rb\")\n",
    "image = file.read()\n",
    "logo_img = widgets.Image(\n",
    "                    value=image,\n",
    "                    format='png',\n",
    "                    width='300'\n",
    "                )\n",
    "logo = widgets.VBox([logo_img])\n",
    "\n",
    "# stacked right hand side\n",
    "title_img = logo_img\n",
    "title_text = widgets.HTML(value=\"<h1>Blockly Earthquake Transformer</h1>\")\n",
    "subtitle_text = widgets.HTML(value=\"<h2>A Python Toolbox for Customizing Seismic Phase Pickers</h2>\")\n",
    "full_title_text = widgets.VBox([title_text,subtitle_text])\n",
    "title = widgets.HBox([title_img,full_title_text])\n"
   ]
  },
  {
   "cell_type": "code",
   "execution_count": 7,
   "id": "5b18f2b3",
   "metadata": {
    "extensions": {
     "jupyter_dashboards": {
      "version": 1,
      "views": {
       "default_view": {
        "hidden": true
       },
       "grid_default": {
        "col": null,
        "height": 2,
        "hidden": true,
        "locked": true,
        "row": null,
        "width": 2
       }
      }
     }
    }
   },
   "outputs": [],
   "source": [
    "# 1 Manage Datasets Module\n",
    "datasets = widgets.Button(\n",
    "                    description='Manage Datasets',\n",
    "                    disabled=False,\n",
    "                    button_style='info', # 'success', 'info', 'warning', 'danger' or ''\n",
    "                    layout={'width': '100%'}      \n",
    "                    #style={'description_width': 'initial'}\n",
    "                )\n",
    "# Input Dataset HDF5 local file path\n",
    "load_hdf5 = widgets.Text(\n",
    "                    value='../ModelsAndSampleData/100samples.hdf5',\n",
    "                    placeholder='../ModelsAndSampleData/100samples.hdf5',\n",
    "                    layout=widgets.Layout(width = '800px',description_width = '40px'),\n",
    "                    description='Upload HDF',\n",
    "                    disabled=False\n",
    "                    )\n",
    "# Input Dataset CSV local file path\n",
    "load_csv = widgets.Text(\n",
    "                    value='../ModelsAndSampleData/100samples.csv',\n",
    "                    placeholder='../ModelsAndSampleData/100samples.csv',\n",
    "                    layout=widgets.Layout(width = '800px', description_width = '40px'),\n",
    "                    description='Upload CSV',\n",
    "                    disabled=False\n",
    "                    )\n",
    "# Build Widget\n",
    "load_dataset = widgets.VBox([datasets, load_hdf5, load_csv])\n"
   ]
  },
  {
   "cell_type": "code",
   "execution_count": 8,
   "id": "50549bdf",
   "metadata": {
    "extensions": {
     "jupyter_dashboards": {
      "version": 1,
      "views": {
       "default_view": {
        "hidden": true
       },
       "grid_default": {
        "col": null,
        "height": 2,
        "hidden": true,
        "locked": true,
        "row": null,
        "width": 2
       }
      }
     }
    }
   },
   "outputs": [],
   "source": [
    "# 2.1 Installed_models \n",
    "# Widget: installed_models\n",
    "installed_models_title = widgets.Button(\n",
    "                    description='Installed Models',\n",
    "                    disabled=False,\n",
    "                    button_style='info', # 'success', 'info', 'warning', 'danger' or ''\n",
    "                    layout={'width': '100%'}      \n",
    "                )\n",
    "load_model_label = widgets.Text(\n",
    "                    value='../EqT_model.h5',\n",
    "                    placeholder='Upload Model',\n",
    "                    description='Upload Model',\n",
    "                    layout=widgets.Layout(width = '800px', description_width = '40px'),\n",
    "                    disabled=False\n",
    "                    )\n",
    "\n",
    "\n",
    "view_model = widgets.Button(\n",
    "                description='Launch Model',\n",
    "                tooltip='Loading model.',\n",
    "                style={'description_width': 'initial'}\n",
    "            )\n",
    "view_model_output = widgets.Output()\n",
    "\n",
    "\n",
    "\n",
    "\n",
    "\n",
    "load_model = input_option('Upload Model', '../EqT_model.h5')\n",
    "\n",
    "create_model = widgets.HBox()\n",
    "children = [load_model_label, create_model]\n",
    "tab = widgets.Tab()\n",
    "tab.children = children\n",
    "tab.set_title(0, \"Pre-trained Models\")\n",
    "tab.set_title(1, \"Create New Model\")\n",
    "installed_models = widgets.VBox([installed_models_title, tab])"
   ]
  },
  {
   "cell_type": "code",
   "execution_count": 9,
   "id": "cb69ac2b",
   "metadata": {
    "extensions": {
     "jupyter_dashboards": {
      "version": 1,
      "views": {
       "default_view": {
        "hidden": true
       },
       "grid_default": {
        "col": null,
        "height": 2,
        "hidden": true,
        "locked": true,
        "row": null,
        "width": 2
       }
      }
     }
    }
   },
   "outputs": [],
   "source": [
    "# 2.2 Training Configs\n",
    "train_title = widgets.Button(\n",
    "                    description='Training Configs',\n",
    "                    disabled=False,\n",
    "                    button_style='info', # 'success', 'info', 'warning', 'danger' or ''\n",
    "                    layout={'width': '100%'}      \n",
    "                )\n",
    "train_mode = widgets.ToggleButtons(button_style='success',\n",
    "            options=['Transfer Learning', 'Fine Tuning','New Model']\n",
    "        )\n",
    "\n",
    "\n",
    "train_test_spilt = input_float_silder(\"Train-Test Spilt Ratio (%)\", 80, 100.0)\n",
    "drop_rate = input_float_silder(\"Drop Rate\", 0.2, 1.0)\n",
    "input_dimention = input_option(\"Input Dimention\", \"(6000,3)\")\n",
    "batch_size = input_option(\"Batch Size\", \"20\")\n",
    "epochs = input_int_silder(\"Epochs\",200, 500)\n",
    "patience = input_int_silder(\"Patience\", 20, 100)\n",
    "output_folder = input_option(\"Output Name\", \"output\")\n",
    "phasetype = widgets.SelectMultiple(\n",
    "    options=['Detector','P', 'Pn', 'Pg', 'Pb','S','Sg', 'Sb', 'PcP','ScP' ],\n",
    "    value=['Detector', 'P', 'S'], # Defaults\n",
    "    rows=9,\n",
    "    layout={'width': '150 px'}, # If the items' names are long\n",
    "    # description='Phase Types',\n",
    "    disabled=False\n",
    ")\n",
    "phasetype = input_hbox('Phase Types', phasetype)\n",
    "\n"
   ]
  },
  {
   "cell_type": "code",
   "execution_count": 10,
   "id": "4e28bd3b-4427-4234-b3a9-991dbf1d7354",
   "metadata": {},
   "outputs": [],
   "source": [
    "def fetch_button_args():\n",
    "    \n",
    "    retrain_args = 0\n",
    "    if train_mode.children[1].value == 'Transfer Learning':\n",
    "        retrain_args = 1\n",
    "    if train_mode.children[1].value == 'Fine Tuning':\n",
    "        retrain_args = 2\n",
    "    # translate input options\n",
    "    input_dimention_tuple = parse_tuple(input_dimention.children[1].value)\n",
    "    # train_valid_test_split: list, defaults=[0.85, 0.05, 0.10]\n",
    "    train_test_list = []\n",
    "    train_test_list.append(train_test_spilt.children[1].value / 100)\n",
    "    train_test_list.append((100-train_test_spilt.children[1].value)/200)\n",
    "    train_test_list.append((100-train_test_spilt.children[1].value)/200)\n",
    "\n",
    "    # loss_types, phase_types and loss_weights\n",
    "    loss_weights_args = []\n",
    "    loss_types_args = []  \n",
    "    phasetype_args = list(phasetype.children[1].value)\n",
    "    if 'Detector' in phasetype_args:\n",
    "        phasetype_args.pop(0)\n",
    "        phasetype_args.insert(0,'d')\n",
    "        loss_weights_args.append(0.05)\n",
    "        loss_types_args.append('binary_crossentropy')\n",
    "\n",
    "    for i in phasetype_args[1:]:\n",
    "        if 'P' == i[0]:\n",
    "            loss_weights_args.append(0.40)\n",
    "        else:\n",
    "            loss_weights_args.append(0.55)    \n",
    "        loss_types_args.append('binary_crossentropy')\n",
    "    return retrain_args,input_dimention_tuple, train_test_list, loss_weights_args, loss_types_args, phasetype_args "
   ]
  },
  {
   "cell_type": "code",
   "execution_count": 11,
   "id": "9b329238-75da-4f1a-ae26-184f17df8fbb",
   "metadata": {},
   "outputs": [],
   "source": [
    "# 2.2 b Run Model Button\n",
    "def view_button_clicked(b):\n",
    "    with view_model_output:\n",
    "        clear_output()\n",
    "        retrain_args,input_dimention_tuple, train_test_list, loss_weights_args, loss_types_args, phasetype_args = fetch_button_args()\n",
    "        trainer(input_model=load_model_label.value, # pretrained model\n",
    "        retrain=retrain_args,\n",
    "        input_hdf5=load_hdf5.value,\n",
    "        input_csv=load_csv.value,\n",
    "        output_name=output_folder.children[1].value, \n",
    "        input_dimention = input_dimention_tuple,\n",
    "        cnn_blocks=2,\n",
    "        lstm_blocks=1,\n",
    "        padding='same',\n",
    "        activation='relu',\n",
    "        drop_rate= drop_rate.children[1].value, #0.2,\n",
    "        label_type='gaussian',\n",
    "        add_event_r=0.6,\n",
    "        add_gap_r=0.2,\n",
    "        shift_event_r=0.9,\n",
    "        add_noise_r=0.5, \n",
    "        mode='generator',\n",
    "        train_valid_test_split=train_test_list,\n",
    "        loss_types=loss_types_args, \n",
    "        loss_weights = loss_weights_args,        \n",
    "        batch_size=int(batch_size.children[1].value),\n",
    "        epochs=epochs.children[1].value, \n",
    "        patience=patience.children[1].value,\n",
    "        gpuid=None,\n",
    "        gpu_limit=None,\n",
    "        phase_types=phasetype_args)\n",
    "view_model.on_click(view_button_clicked)      \n",
    "view_model_vbox = widgets.VBox([view_model,view_model_output])"
   ]
  },
  {
   "cell_type": "code",
   "execution_count": 12,
   "id": "85105124-19b3-408a-9c81-08eff9931aa9",
   "metadata": {},
   "outputs": [],
   "source": [
    "train_mode = widgets.VBox([train_title,train_mode, train_test_spilt, drop_rate, input_dimention, phasetype, batch_size, epochs, patience, output_folder, view_model_vbox])"
   ]
  },
  {
   "cell_type": "code",
   "execution_count": 34,
   "id": "f3f2287f-c9af-4ebe-a80c-801f5463db53",
   "metadata": {},
   "outputs": [],
   "source": [
    "# 2.3 Performance\n",
    "performance_title = widgets.Button(\n",
    "                    description='Training Performance',\n",
    "                    disabled=False,\n",
    "                    button_style='info', # 'success', 'info', 'warning', 'danger' or ''\n",
    "                    layout={'width': '100%'}      \n",
    "                )\n",
    "performance_button = widgets.Button(\n",
    "    description='Summary',\n",
    "    disabled=False,\n",
    "    button_style='', # 'success', 'info', 'warning', 'danger' or ''\n",
    "    tooltip='Click me',\n",
    "    icon='check' # (FontAwesome names without the `fa-` prefix)\n",
    ")\n",
    "\n",
    "performance_output = widgets.Output()\n",
    "def performancemodule():\n",
    "    performancepath = output_folder.children[1].value + '_outputs/'\n",
    "    #load training performance logging document\n",
    "    file1 = open(performancepath+\"X_report.txt\",\"r\")\n",
    "    performance_info_text = file1.readlines()\n",
    "    file1.close()\n",
    "    return performance_info_text\n",
    "\n",
    "performance_info_text = None\n",
    "def performance_button_clicked(b):\n",
    "    with performance_output:\n",
    "        clear_output()\n",
    "        # show figure\n",
    "        %matplotlib inline\n",
    "        performancepath = output_folder.children[1].value + '_outputs/'\n",
    "        img = plt.imread(performancepath+\"X_learning_curve_loss.png\")\n",
    "        fig, ax = plt.subplots()\n",
    "        fig.set_size_inches((13,13))\n",
    "        im = ax.imshow(img)\n",
    "        plt.axis('off')\n",
    "        plt.show()\n",
    "        performance_info_text = performancemodule()\n",
    "        for i in performance_info_text:\n",
    "            print(i)\n",
    "performance_button.on_click(performance_button_clicked)      \n",
    "performance_info_vbox = widgets.VBox([performance_button,performance_output])\n"
   ]
  },
  {
   "cell_type": "code",
   "execution_count": 35,
   "id": "e6bf4a14-e94f-4068-b1d3-94999f9249d6",
   "metadata": {},
   "outputs": [],
   "source": [
    "performance = widgets.VBox([performance_title,performance_info_vbox])"
   ]
  },
  {
   "cell_type": "code",
   "execution_count": 36,
   "id": "eb078801",
   "metadata": {
    "extensions": {
     "jupyter_dashboards": {
      "version": 1,
      "views": {
       "default_view": {
        "hidden": true
       },
       "grid_default": {
        "col": null,
        "height": 2,
        "hidden": true,
        "locked": true,
        "row": null,
        "width": 2
       }
      }
     }
    }
   },
   "outputs": [],
   "source": [
    "# 2 Models and Training\n",
    "# Installed Models\n",
    "# Training Configs\n",
    "model_and_training_accordion = widgets.Accordion(children=[installed_models, train_mode,performance])\n",
    "model_and_training_accordion.set_title(0, 'Installed Models')\n",
    "model_and_training_accordion.set_title(1, 'Training Configs')\n",
    "model_and_training_accordion.set_title(2, 'Training Performance')\n"
   ]
  },
  {
   "cell_type": "code",
   "execution_count": 37,
   "id": "23b44beb-6fb9-4f0f-a305-49c9d8af2179",
   "metadata": {},
   "outputs": [],
   "source": [
    "# 3 Test Widgets\n",
    "test_title = widgets.Button(\n",
    "                    description='Validation',\n",
    "                    disabled=False,\n",
    "                    button_style='info', # 'success', 'info', 'warning', 'danger' or ''\n",
    "                    layout={'width': '100%'}      \n",
    "                )\n",
    "test_model = widgets.Text(\n",
    "                    value='../EqT_model.h5',\n",
    "                    placeholder='Model',\n",
    "                    description='Model',\n",
    "                    layout=widgets.Layout(width = '800px', description_width = '40px'),\n",
    "                    disabled=False\n",
    "                    )\n",
    "# Input Dataset HDF5 local file path\n",
    "test_hdf5 = widgets.Text(\n",
    "                    value='../ModelsAndSampleData/100samples.hdf5',\n",
    "                    placeholder='../ModelsAndSampleData/100samples.hdf5',\n",
    "                    layout=widgets.Layout(width = '800px',description_width = '40px'),\n",
    "                    description='HDF5',\n",
    "                    disabled=False\n",
    "                    )\n",
    "# Input Testset npy local file path\n",
    "test_npy = widgets.Text(\n",
    "                    value='../test_trainer_outputs/test.npy',\n",
    "                    placeholder='../ModelsAndSampleData/100samples.csv',\n",
    "                    layout=widgets.Layout(width = '800px', description_width = '40px'),\n",
    "                    description='CSV',\n",
    "                    disabled=False\n",
    "                    )\n",
    "test_output = widgets.Text(\n",
    "                    value='test_output',\n",
    "                    placeholder='../ModelsAndSampleData/100samples.csv',\n",
    "                    layout=widgets.Layout(width = '800px', description_width = '40px'),\n",
    "                    description='Output',\n",
    "                    disabled=False\n",
    "                    )\n",
    "test_button = widgets.Button(\n",
    "                description='Validate',\n",
    "                tooltip='Loading test module...',\n",
    "                style={'description_width': 'initial'}\n",
    "            )\n",
    "test_button_output = widgets.Output()\n",
    "\n",
    "# Build Widget\n",
    "validation = widgets.VBox([test_title, test_model, test_hdf5, test_npy,test_output, test_button, test_button_output])"
   ]
  },
  {
   "cell_type": "code",
   "execution_count": 38,
   "id": "534941f7-9c4b-4e3d-81e2-d1b0bf16fd7c",
   "metadata": {},
   "outputs": [],
   "source": [
    "# 3 test\n",
    "test_accordion = widgets.Accordion(children=[validation])\n",
    "test_accordion.set_title(0, 'Validation')"
   ]
  },
  {
   "cell_type": "code",
   "execution_count": 39,
   "id": "bff7eb03-ced2-45b2-8826-b2b133c6ba4c",
   "metadata": {},
   "outputs": [],
   "source": [
    "# 4 Predict Widgets\n",
    "predict_title = widgets.Button(\n",
    "                    description='Deploy',\n",
    "                    disabled=False,\n",
    "                    button_style='info', # 'success', 'info', 'warning', 'danger' or ''\n",
    "                    layout={'width': '100%'}      \n",
    "                )\n",
    "predict_model = widgets.Text(\n",
    "                    value='../EqT_model.h5',\n",
    "                    placeholder='Model',\n",
    "                    description='Model',\n",
    "                    layout=widgets.Layout(width = '800px', description_width = '130px'),\n",
    "                    disabled=False\n",
    "                    )\n",
    "# Input Dataset HDF5 local file path\n",
    "predict_hdf5 = widgets.Text(\n",
    "                    value='../ModelsAndSampleData',\n",
    "                    placeholder='../ModelsAndSampleData/100samples.hdf5',\n",
    "                    layout=widgets.Layout(width = '800px',description_width = '130px'),\n",
    "                    description='HDF5',\n",
    "                    disabled=False\n",
    "                    )\n",
    "predict_output = widgets.Text(\n",
    "                    value='prediction_output',\n",
    "                    placeholder='../ModelsAndSampleData/100samples.csv',\n",
    "                    layout=widgets.Layout(width = '800px', description_width = '130px'),\n",
    "                    description='Output',\n",
    "                    disabled=False\n",
    "                    )\n",
    "predict_button = widgets.Button(\n",
    "                description='Predict',\n",
    "                tooltip='Loading prediction module...',\n",
    "                style={'description_width': 'initial'}\n",
    "            )\n",
    "predict_button_output = widgets.Output()\n",
    "\n",
    "# predict button\n",
    "def predict_button_clicked(b):\n",
    "    with predict_button_output:\n",
    "        clear_output()\n",
    "        # activate preditor module\n",
    "        predictor(input_dir=predict_hdf5.value,\n",
    "         input_model=predict_model.value, # pretrained model \n",
    "         output_dir=predict_output.value,\n",
    "         estimate_uncertainty=False, \n",
    "         output_probabilities=False,\n",
    "         number_of_sampling=5,\n",
    "         loss_weights=[0.02, 0.40, 0.58],          \n",
    "         detection_threshold=0.3,                \n",
    "         P_threshold=0.3,\n",
    "         S_threshold=0.3, \n",
    "         number_of_plots=10,\n",
    "         plot_mode='time',\n",
    "         batch_size=500,\n",
    "         number_of_cpus=4,\n",
    "         keepPS=False,\n",
    "         spLimit=60) \n",
    "       \n",
    "predict_button.on_click(predict_button_clicked)   \n",
    "\n",
    "# Build Widget\n",
    "prediction = widgets.VBox([predict_title, predict_model, predict_hdf5, predict_output, predict_button, predict_button_output])"
   ]
  },
  {
   "cell_type": "code",
   "execution_count": 40,
   "id": "c9b464e8-7206-4a71-aa0b-0f24e3009329",
   "metadata": {},
   "outputs": [],
   "source": [
    "# predict\n",
    "predict_accordion = widgets.Accordion(children=[prediction])\n",
    "predict_accordion.set_title(0, 'Deployment')"
   ]
  },
  {
   "cell_type": "code",
   "execution_count": 41,
   "id": "f2321cce",
   "metadata": {
    "extensions": {
     "jupyter_dashboards": {
      "version": 1,
      "views": {
       "default_view": {
        "col": 0,
        "height": 2,
        "row": 28,
        "width": 12
       },
       "grid_default": {
        "col": null,
        "height": 2,
        "hidden": true,
        "locked": true,
        "row": null,
        "width": 2
       }
      }
     }
    }
   },
   "outputs": [
    {
     "data": {
      "application/vnd.jupyter.widget-view+json": {
       "model_id": "83fd38b06bda49e484a9705f9d63b04f",
       "version_major": 2,
       "version_minor": 0
      },
      "text/plain": [
       "VBox(children=(HBox(children=(Image(value=b'\\x89PNG\\r\\n\\x1a\\n\\x00\\x00\\x00\\rIHDR\\x00\\x00\\x01\\\\\\x00\\x00\\x00\\x98\\…"
      ]
     },
     "metadata": {},
     "output_type": "display_data"
    }
   ],
   "source": [
    "# -1 Web App\n",
    "page =  widgets.VBox([title, load_dataset, model_and_training_accordion, test_accordion, predict_accordion])\n",
    "display(page)"
   ]
  },
  {
   "cell_type": "code",
   "execution_count": 21,
   "id": "b465c93f",
   "metadata": {
    "extensions": {
     "jupyter_dashboards": {
      "version": 1,
      "views": {
       "default_view": {
        "hidden": true
       },
       "grid_default": {
        "col": null,
        "height": 2,
        "hidden": true,
        "locked": true,
        "row": null,
        "width": 2
       }
      }
     }
    }
   },
   "outputs": [],
   "source": [
    "# import all required packages\n",
    "#!pip freeze > requirements.txt"
   ]
  }
 ],
 "metadata": {
  "extensions": {
   "jupyter_dashboards": {
    "activeView": "default_view",
    "version": 1,
    "views": {
     "default_view": {
      "cellMargin": 10,
      "defaultCellHeight": 40,
      "maxColumns": 12,
      "name": "active_view",
      "type": "grid"
     },
     "grid_default": {
      "cellMargin": 2,
      "defaultCellHeight": 40,
      "maxColumns": 12,
      "name": "grid",
      "type": "grid"
     }
    }
   }
  },
  "kernelspec": {
   "display_name": "Python 3 (ipykernel)",
   "language": "python",
   "name": "python3"
  },
  "language_info": {
   "codemirror_mode": {
    "name": "ipython",
    "version": 3
   },
   "file_extension": ".py",
   "mimetype": "text/x-python",
   "name": "python",
   "nbconvert_exporter": "python",
   "pygments_lexer": "ipython3",
   "version": "3.7.12"
  },
  "toc-autonumbering": false,
  "toc-showcode": true,
  "toc-showmarkdowntxt": false,
  "toc-showtags": true
 },
 "nbformat": 4,
 "nbformat_minor": 5
}
